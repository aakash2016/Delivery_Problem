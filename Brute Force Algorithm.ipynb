{
 "cells": [
  {
   "cell_type": "code",
   "execution_count": 1,
   "metadata": {},
   "outputs": [],
   "source": [
    "import networkx as nx\n",
    "from itertools import permutations\n",
    "\n",
    "# This function takes as input a graph g.\n",
    "# The graph is complete (i.e., each pair of distinct vertices is connected by an edge),\n",
    "# undirected (i.e., the edge from u to v has the same weight as the edge from v to u),\n",
    "# and has no self-loops (i.e., there are no edges from i to i).\n",
    "#\n",
    "# The function should return the weight of a shortest Hamiltonian cycle.\n",
    "# (Don't forget to add up the last edge connecting the last vertex of the cycle with the first one.)\n",
    "#\n",
    "# You can iterate through all permutations of the set {0, ..., n-1} and find a cycle of the minimum weight.\n",
    "\n",
    "\n",
    "def all_permutations(g):\n",
    "    # n is the number of vertices.\n",
    "    n = g.number_of_nodes()\n",
    "\n",
    "    # Iterate through all permutations of n vertices\n",
    "    x = 0\n",
    "    t = 1000.0\n",
    "    for p in permutations(range(n)):\n",
    "        for i in range(n-1):  \n",
    "            x += g[p[i]][p[i+1]]['weight']\n",
    "        x += g[p[-1]][p[0]]['weight']   \n",
    "        if t > x:\n",
    "          t = x\n",
    "    return t"
   ]
  }
 ],
 "metadata": {
  "kernelspec": {
   "display_name": "Python 3",
   "language": "python",
   "name": "python3"
  },
  "language_info": {
   "codemirror_mode": {
    "name": "ipython",
    "version": 3
   },
   "file_extension": ".py",
   "mimetype": "text/x-python",
   "name": "python",
   "nbconvert_exporter": "python",
   "pygments_lexer": "ipython3",
   "version": "3.6.4"
  }
 },
 "nbformat": 4,
 "nbformat_minor": 2
}
