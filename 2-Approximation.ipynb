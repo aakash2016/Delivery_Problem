{
 "cells": [
  {
   "cell_type": "code",
   "execution_count": 1,
   "metadata": {},
   "outputs": [],
   "source": [
    "import networkx as nx\n",
    "\n",
    "# This function takes as input a graph g.\n",
    "# The graph is complete (i.e., each pair of distinct vertices is connected by an edge),\n",
    "# undirected (i.e., the edge from u to v has the same weight as the edge from v to u),\n",
    "# and has no self-loops (i.e., there are no edges from i to i).\n",
    "#\n",
    "# The function should return a 2-approximation of an optimal Hamiltonian cycle.\n",
    "\n",
    "def approximation(g):\n",
    "    # n is the number of vertices.\n",
    "    n = g.number_of_nodes()\n",
    "    t = nx.minimum_spanning_tree(g)\n",
    "    # You might want to use the function \"nx.minimum_spanning_tree(g)\"\n",
    "    # which returns a Minimum Spanning Tree of the graph g\n",
    "    x = list(nx.dfs_preorder_nodes(t, 0))\n",
    "    # You also might want to use the command \"list(nx.dfs_preorder_nodes(graph, 0))\"\n",
    "    # which gives a list of vertices of the given graph in depth-first preorder.\n",
    "    summ = 0\n",
    "    for i in range(len(x)-1):\n",
    "        summ += g[x[i]][x[i+1]]['weight']\n",
    "    summ += g[x[-1]][x[0]]['weight']\n",
    "    return summ"
   ]
  }
 ],
 "metadata": {
  "kernelspec": {
   "display_name": "Python 3",
   "language": "python",
   "name": "python3"
  },
  "language_info": {
   "codemirror_mode": {
    "name": "ipython",
    "version": 3
   },
   "file_extension": ".py",
   "mimetype": "text/x-python",
   "name": "python",
   "nbconvert_exporter": "python",
   "pygments_lexer": "ipython3",
   "version": "3.6.4"
  }
 },
 "nbformat": 4,
 "nbformat_minor": 2
}
